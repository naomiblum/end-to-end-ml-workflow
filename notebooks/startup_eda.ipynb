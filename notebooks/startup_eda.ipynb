{
 "cells": [
  {
   "cell_type": "markdown",
   "id": "5646c5a3",
   "metadata": {},
   "source": [
    "# Startup Success - Exploratory Data Analysis (EDA)\n",
    "\n",
    "Exploring and understanding our dataset before modeling."
   ]
  },
  {
   "cell_type": "code",
   "execution_count": null,
   "id": "e1339e7a",
   "metadata": {},
   "outputs": [],
   "source": [
    "import pandas as pd\n",
    "import matplotlib.pyplot as plt\n",
    "import seaborn as sns\n",
    "\n",
    "%matplotlib inline"
   ]
  },
  {
   "cell_type": "code",
   "execution_count": null,
   "id": "a2afa698",
   "metadata": {},
   "outputs": [],
   "source": [
    "df = pd.read_csv('../data/startup data.csv')\n",
    "df.shape"
   ]
  },
  {
   "cell_type": "code",
   "execution_count": null,
   "id": "5aa414c8",
   "metadata": {},
   "outputs": [],
   "source": [
    "df.head()"
   ]
  },
  {
   "cell_type": "code",
   "execution_count": null,
   "id": "46f0af13",
   "metadata": {},
   "outputs": [],
   "source": [
    "df.isnull().sum().sort_values(ascending=False).head(20)"
   ]
  },
  {
   "cell_type": "code",
   "execution_count": null,
   "id": "219e64f6",
   "metadata": {},
   "outputs": [],
   "source": [
    "df['status'].value_counts().plot(kind='bar', title='Success vs Failure')"
   ]
  },
  {
   "cell_type": "code",
   "execution_count": null,
   "id": "2634f04c",
   "metadata": {},
   "outputs": [],
   "source": [
    "df['status_binary'] = df['status'].map({'acquired': 1, 'closed': 0})"
   ]
  },
  {
   "cell_type": "code",
   "execution_count": null,
   "id": "4cedce34",
   "metadata": {},
   "outputs": [],
   "source": [
    "numeric_cols = df.select_dtypes(include='number')\n",
    "plt.figure(figsize=(10, 6))\n",
    "sns.heatmap(numeric_cols.corr(), annot=True, cmap='coolwarm')\n",
    "plt.title('Correlation Heatmap')"
   ]
  }
 ],
 "metadata": {},
 "nbformat": 4,
 "nbformat_minor": 5
}


print(df.head())
print(df.shape)
print(df.columns)
print(df.info())
print(df.describe())


