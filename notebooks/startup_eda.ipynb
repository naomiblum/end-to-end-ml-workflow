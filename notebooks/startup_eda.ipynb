{
  "cells": [
    {
      "cell_type": "markdown",
      "id": "5646c5a3",
      "metadata": {
        "id": "5646c5a3"
      },
      "source": [
        "# Startup Success - Exploratory Data Analysis (EDA)\n",
        "\n",
        "Exploring and understanding our dataset before modeling."
      ]
    },
    {
      "cell_type": "code",
      "execution_count": null,
      "id": "e1339e7a",
      "metadata": {
        "id": "e1339e7a"
      },
      "outputs": [],
      "source": [
        "import pandas as pd\n",
        "import matplotlib.pyplot as plt\n",
        "import seaborn as sns\n",
        "\n",
        "%matplotlib inline"
      ]
    },
    {
      "cell_type": "code",
      "execution_count": null,
      "id": "a2afa698",
      "metadata": {
        "id": "a2afa698"
      },
      "outputs": [],
      "source": [
        "df = pd.read_csv('../data/startup data.csv')\n",
        "df.shape"
      ]
    },
    {
      "cell_type": "code",
      "execution_count": null,
      "id": "5aa414c8",
      "metadata": {
        "id": "5aa414c8"
      },
      "outputs": [],
      "source": [
        "df.head()"
      ]
    },
    {
      "cell_type": "code",
      "execution_count": null,
      "id": "46f0af13",
      "metadata": {
        "id": "46f0af13"
      },
      "outputs": [],
      "source": [
        "df.isnull().sum().sort_values(ascending=False).head(20)"
      ]
    },
    {
      "cell_type": "code",
      "execution_count": null,
      "id": "219e64f6",
      "metadata": {
        "id": "219e64f6"
      },
      "outputs": [],
      "source": [
        "df['status'].value_counts().plot(kind='bar', title='Success vs Failure')"
      ]
    },
    {
      "cell_type": "code",
      "execution_count": null,
      "id": "2634f04c",
      "metadata": {
        "id": "2634f04c"
      },
      "outputs": [],
      "source": [
        "df['status_binary'] = df['status'].map({'acquired': 1, 'closed': 0})"
      ]
    },
    {
      "cell_type": "code",
      "execution_count": null,
      "id": "4cedce34",
      "metadata": {
        "id": "4cedce34"
      },
      "outputs": [],
      "source": [
        "numeric_cols = df.select_dtypes(include='number')\n",
        "plt.figure(figsize=(10, 6))\n",
        "sns.heatmap(numeric_cols.corr(), annot=True, cmap='coolwarm')\n",
        "plt.title('Correlation Heatmap')"
      ]
    },
    {
      "cell_type": "code",
      "source": [],
      "metadata": {
        "id": "tfcY5uZlw2ha"
      },
      "id": "tfcY5uZlw2ha",
      "execution_count": null,
      "outputs": []
    },
    {
      "cell_type": "markdown",
      "source": [
        "## Class Imbalance Check\n",
        "\n",
        "After defining the binary target variable `status_binary`, it's important to assess the balance between the classes. A highly imbalanced dataset can lead to biased models, especially when the majority class dominates the training process. We will visualize the distribution and compute the proportion of each class."
      ],
      "metadata": {
        "id": "tYcEqMx4ptEN"
      },
      "id": "tYcEqMx4ptEN"
    },
    {
      "cell_type": "code",
      "source": [
        "# Visualize the balance of the target variable\n",
        "sns.countplot(data=df, x='status_binary')\n",
        "plt.title(\"Class Distribution: status_binary\")\n",
        "plt.xticks([0, 1], ['Closed (0)', 'Acquired (1)'])\n",
        "plt.show()\n",
        "\n",
        "# Calculate the percentage distribution\n",
        "class_distribution = df['status_binary'].value_counts(normalize=True) * 100\n",
        "print(\"Class Distribution (%):\")\n",
        "print(class_distribution.round(2))"
      ],
      "metadata": {
        "id": "6tYpt2Y-pz9V"
      },
      "id": "6tYpt2Y-pz9V",
      "execution_count": null,
      "outputs": []
    }
  ],
  "metadata": {
    "colab": {
      "provenance": []
    }
  },
  "nbformat": 4,
  "nbformat_minor": 5
}