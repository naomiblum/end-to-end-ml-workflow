{
 "cells": [
  {
   "cell_type": "markdown",
   "id": "dbe981b9",
   "metadata": {},
   "source": [
    "# 🧠 Startup EDA - Continued\n",
    "Exploratory Data Analysis (continued steps)"
   ]
  },
  {
   "cell_type": "code",
   "execution_count": null,
   "id": "84f9fcdd",
   "metadata": {},
   "outputs": [],
   "source": [
    "# Load essential libraries\n",
    "import pandas as pd\n",
    "import seaborn as sns\n",
    "import matplotlib.pyplot as plt\n",
    "\n",
    "%matplotlib inline\n",
    "\n",
    "# Load the dataset (update path if needed)\n",
    "df = pd.read_csv('../data/startup_data.csv')"
   ]
  },
  {
   "cell_type": "markdown",
   "id": "e4149233",
   "metadata": {},
   "source": [
    "## 1. Identify column types"
   ]
  },
  {
   "cell_type": "code",
   "execution_count": null,
   "id": "6287e6fa",
   "metadata": {},
   "outputs": [],
   "source": [
    "cat_cols = df.select_dtypes(include='object').columns.tolist()\n",
    "num_cols = df.select_dtypes(include=['int64', 'float64']).columns.tolist()\n",
    "print(\"Categorical columns:\", cat_cols)\n",
    "print(\"Numerical columns:\", num_cols)"
   ]
  },
  {
   "cell_type": "markdown",
   "id": "8a15e3db",
   "metadata": {},
   "source": [
    "## 2. Visualize categorical features"
   ]
  },
  {
   "cell_type": "code",
   "execution_count": null,
   "id": "a9cf9dac",
   "metadata": {},
   "outputs": [],
   "source": [
    "for col in cat_cols:\n",
    "    plt.figure(figsize=(8, 4))\n",
    "    sns.countplot(data=df, x=col, order=df[col].value_counts().index[:10])\n",
    "    plt.xticks(rotation=45)\n",
    "    plt.title(f'Distribution of {col}')\n",
    "    plt.show()"
   ]
  },
  {
   "cell_type": "markdown",
   "id": "c569ad4c",
   "metadata": {},
   "source": [
    "## 3. Correlation heatmap"
   ]
  },
  {
   "cell_type": "code",
   "execution_count": null,
   "id": "773e4f9c",
   "metadata": {},
   "outputs": [],
   "source": [
    "plt.figure(figsize=(12,8))\n",
    "sns.heatmap(df[num_cols].corr(), annot=True, cmap='coolwarm')\n",
    "plt.title(\"Correlation Heatmap\")\n",
    "plt.show()"
   ]
  },
  {
   "cell_type": "markdown",
   "id": "cb477fa0",
   "metadata": {},
   "source": [
    "## 4. Funding vs. Status"
   ]
  },
  {
   "cell_type": "code",
   "execution_count": null,
   "id": "97a172f0",
   "metadata": {},
   "outputs": [],
   "source": [
    "sns.boxplot(data=df, x='status', y='funding_total_usd')\n",
    "plt.title('Funding Distribution by Startup Status')\n",
    "plt.show()"
   ]
  },
  {
   "cell_type": "markdown",
   "id": "e7bc8a2b",
   "metadata": {},
   "source": [
    "## 5. Map status to binary target"
   ]
  },
  {
   "cell_type": "code",
   "execution_count": null,
   "id": "7b89e2f3",
   "metadata": {},
   "outputs": [],
   "source": [
    "df['status_binary'] = df['status'].map({'acquired': 1, 'closed': 0})\n",
    "df['status_binary'].value_counts(normalize=True)"
   ]
  },
  {
   "cell_type": "markdown",
   "id": "7a24e789",
   "metadata": {},
   "source": [
    "## 6. Summary\n",
    "- Majority of startups are labeled 'closed'\n",
    "- Funding values vary widely\n",
    "- Some columns contain missing values\n",
    "- Consider merging rare categories"
   ]
  }
 ],
 "metadata": {},
 "nbformat": 4,
 "nbformat_minor": 5
}
