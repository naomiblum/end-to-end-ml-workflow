{
  "cells": [
    {
      "cell_type": "markdown",
      "metadata": {
        "id": "1ITQQ_CWneC7"
      },
      "source": [
        "# Startup Data - Exploratory Data Analysis (EDA)\n",
        "This notebook contains a complete EDA process, including missing value treatment, visualizations, and data cleaning. We aim to understand patterns and prepare the dataset for modeling."
      ]
    },
    {
      "cell_type": "markdown",
      "metadata": {
        "id": "l1UoGLYXneC-"
      },
      "source": [
        "## 1. Column Types\n",
        "We separate categorical and numerical columns for easier handling and visualization."
      ]
    },
    {
      "cell_type": "code",
      "execution_count": null,
      "metadata": {
        "id": "rrWFOTzoneC_"
      },
      "outputs": [],
      "source": [
        "cat_cols = df.select_dtypes(include='object').columns.tolist()\n",
        "num_cols = df.select_dtypes(include=['int64', 'float64']).columns.tolist()\n",
        "print(\"Categorical columns:\", cat_cols)\n",
        "print(\"Numerical columns:\", num_cols)"
      ]
    },
    {
      "cell_type": "markdown",
      "metadata": {
        "id": "STJrMQ-vneDA"
      },
      "source": [
        "## 2. Countplot for Categorical Columns\n",
        "We visualize the frequency of values for each categorical feature (up to top 10 categories)."
      ]
    },
    {
      "cell_type": "code",
      "execution_count": null,
      "metadata": {
        "id": "XgExrG9MneDA"
      },
      "outputs": [],
      "source": [
        "for col in cat_cols:\n",
        "    plt.figure(figsize=(8, 4))\n",
        "    sns.countplot(data=df, x=col, order=df[col].value_counts().index[:10])\n",
        "    plt.xticks(rotation=45)\n",
        "    plt.title(f'Distribution of {col}')\n",
        "    plt.tight_layout()\n",
        "    plt.show()"
      ]
    },
    {
      "cell_type": "markdown",
      "metadata": {
        "id": "Ais_aUkUneDA"
      },
      "source": [
        "## 3. Correlation Heatmap for Numerical Columns\n",
        "This helps us identify which numerical features are correlated."
      ]
    },
    {
      "cell_type": "code",
      "execution_count": null,
      "metadata": {
        "id": "UyZZ53T3neDA"
      },
      "outputs": [],
      "source": [
        "plt.figure(figsize=(12,8))\n",
        "sns.heatmap(df[num_cols].corr(), annot=True, cmap='coolwarm')\n",
        "plt.title(\"Correlation Heatmap\")\n",
        "plt.show()"
      ]
    },
    {
      "cell_type": "markdown",
      "metadata": {
        "id": "EgpFQz94neDA"
      },
      "source": [
        "## 4. Funding Distribution by Status\n",
        "Visualize how funding amounts differ between startup statuses."
      ]
    },
    {
      "cell_type": "code",
      "execution_count": null,
      "metadata": {
        "id": "5W-p2CvCneDB"
      },
      "outputs": [],
      "source": [
        "sns.boxplot(data=df, x='status', y='funding_total_usd')\n",
        "plt.title('Funding Distribution by Startup Status')\n",
        "plt.show()"
      ]
    },
    {
      "cell_type": "markdown",
      "metadata": {
        "id": "S_NbY6TrneDB"
      },
      "source": [
        "## 5. Create Binary Target Column\n",
        "Convert the 'status' column into a binary target for classification modeling."
      ]
    },
    {
      "cell_type": "code",
      "execution_count": null,
      "metadata": {
        "id": "sQe40oZJneDB"
      },
      "outputs": [],
      "source": [
        "df['status_binary'] = df['status'].map({'acquired': 1, 'closed': 0})\n",
        "df['status_binary'].value_counts(normalize=True)"
      ]
    },
    {
      "cell_type": "markdown",
      "metadata": {
        "id": "cmJPl1XYneDB"
      },
      "source": [
        "## 6. Handle Missing Values\n",
        "Drop columns with over 50% missing data, then fill remaining values using median (numerical) or mode (categorical)."
      ]
    },
    {
      "cell_type": "code",
      "execution_count": null,
      "metadata": {
        "id": "JyV7AkldneDB"
      },
      "outputs": [],
      "source": [
        "missing_percent = df.isnull().mean()\n",
        "cols_to_drop = missing_percent[missing_percent > 0.5].index\n",
        "df.drop(columns=cols_to_drop, inplace=True)\n",
        "\n",
        "# Fill missing values\n",
        "df[num_cols] = df[num_cols].fillna(df[num_cols].median())\n",
        "df[cat_cols] = df[cat_cols].fillna(df[cat_cols].mode().iloc[0])\n",
        "\n",
        "# Final check\n",
        "print(\"Total missing values:\", df.isnull().sum().sum())"
      ]
    },
    {
      "cell_type": "markdown",
      "source": [
        "## ✅ EDA Summary\n",
        "\n",
        "We successfully completed the Exploratory Data Analysis (EDA) phase, which included:\n",
        "\n",
        "- Identifying categorical and numerical features\n",
        "- Visualizing distributions, correlations, and class imbalance\n",
        "- Creating a binary target column (`status_binary`)\n",
        "- Handling missing values using:\n",
        "  - Dropping columns with over 50% missing\n",
        "  - Imputing with median (numerical) and mode (categorical)\n",
        "- Applying log transformation to `funding_total_usd` to reduce skewness\n",
        "\n",
        "The dataset is now clean, transformed, and ready for feature engineering and modeling.\\"
      ],
      "metadata": {
        "id": "H9Yohm42oCg-"
      }
    }
  ],
  "metadata": {
    "kernelspec": {
      "display_name": "Python 3",
      "language": "python",
      "name": "python3"
    },
    "language_info": {
      "name": "python",
      "version": "3.9"
    },
    "colab": {
      "provenance": []
    }
  },
  "nbformat": 4,
  "nbformat_minor": 0
}